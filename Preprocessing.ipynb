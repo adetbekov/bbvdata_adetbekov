{
 "cells": [
  {
   "cell_type": "markdown",
   "metadata": {},
   "source": [
    "# BBVDATA Preprocessing"
   ]
  },
  {
   "cell_type": "markdown",
   "metadata": {},
   "source": [
    "### Импортирование инструментов и инициализация предобработки"
   ]
  },
  {
   "cell_type": "code",
   "execution_count": 1,
   "metadata": {
    "collapsed": true
   },
   "outputs": [],
   "source": [
    "import numpy as np\n",
    "import pandas as pd\n",
    "import seaborn as sns\n",
    "import matplotlib.pyplot as plt\n",
    "%matplotlib inline"
   ]
  },
  {
   "cell_type": "code",
   "execution_count": 2,
   "metadata": {
    "collapsed": true
   },
   "outputs": [],
   "source": [
    "df = pd.read_csv(\"telemetrika_db.csv\", header=0)"
   ]
  },
  {
   "cell_type": "code",
   "execution_count": 3,
   "metadata": {},
   "outputs": [
    {
     "data": {
      "text/html": [
       "<div>\n",
       "<style scoped>\n",
       "    .dataframe tbody tr th:only-of-type {\n",
       "        vertical-align: middle;\n",
       "    }\n",
       "\n",
       "    .dataframe tbody tr th {\n",
       "        vertical-align: top;\n",
       "    }\n",
       "\n",
       "    .dataframe thead th {\n",
       "        text-align: right;\n",
       "    }\n",
       "</style>\n",
       "<table border=\"1\" class=\"dataframe\">\n",
       "  <thead>\n",
       "    <tr style=\"text-align: right;\">\n",
       "      <th></th>\n",
       "      <th>uid</th>\n",
       "      <th>bv_number</th>\n",
       "      <th>speed</th>\n",
       "      <th>load</th>\n",
       "      <th>amount</th>\n",
       "      <th>image_name</th>\n",
       "      <th>date</th>\n",
       "      <th>point</th>\n",
       "      <th>time</th>\n",
       "      <th>id</th>\n",
       "    </tr>\n",
       "  </thead>\n",
       "  <tbody>\n",
       "    <tr>\n",
       "      <th>0</th>\n",
       "      <td>8a1342e9-0672-4697-ab16-11d26257175a</td>\n",
       "      <td>2</td>\n",
       "      <td>64</td>\n",
       "      <td>1</td>\n",
       "      <td>75</td>\n",
       "      <td>6f22c9daa38b1f44e22af9603300c8e0.jpeg</td>\n",
       "      <td>2016-07-09 16:11:59+06</td>\n",
       "      <td>6</td>\n",
       "      <td>1468059119000</td>\n",
       "      <td>1</td>\n",
       "    </tr>\n",
       "    <tr>\n",
       "      <th>1</th>\n",
       "      <td>6a901e67-89cc-4a39-b114-b021ad3632f7</td>\n",
       "      <td>2</td>\n",
       "      <td>30</td>\n",
       "      <td>8</td>\n",
       "      <td>255</td>\n",
       "      <td>5a60872f1888641e6b8f1826d2bd5d30.jpeg</td>\n",
       "      <td>2016-07-09 16:12:35+06</td>\n",
       "      <td>1</td>\n",
       "      <td>1468059155000</td>\n",
       "      <td>2</td>\n",
       "    </tr>\n",
       "    <tr>\n",
       "      <th>2</th>\n",
       "      <td>e8035e41-7f73-4546-bd7f-9758e02b2935</td>\n",
       "      <td>2</td>\n",
       "      <td>17</td>\n",
       "      <td>2</td>\n",
       "      <td>50</td>\n",
       "      <td>787b5cc570e8e24233571ec30a4b9f70.jpeg</td>\n",
       "      <td>2016-07-09 16:13:10+06</td>\n",
       "      <td>9</td>\n",
       "      <td>1468059190000</td>\n",
       "      <td>3</td>\n",
       "    </tr>\n",
       "    <tr>\n",
       "      <th>3</th>\n",
       "      <td>1c01a952-909f-44c5-9b2b-3a4659e925c1</td>\n",
       "      <td>2</td>\n",
       "      <td>83</td>\n",
       "      <td>1</td>\n",
       "      <td>118</td>\n",
       "      <td>269695ac3a1ae469703fd565b6acf0c4.jpeg</td>\n",
       "      <td>2016-07-09 16:13:45+06</td>\n",
       "      <td>4</td>\n",
       "      <td>1468059225000</td>\n",
       "      <td>4</td>\n",
       "    </tr>\n",
       "    <tr>\n",
       "      <th>4</th>\n",
       "      <td>8ad25016-9770-4973-8808-7baf582dbace</td>\n",
       "      <td>2</td>\n",
       "      <td>38</td>\n",
       "      <td>5</td>\n",
       "      <td>192</td>\n",
       "      <td>13883044fea46b141b8b61c5011a27a4.jpeg</td>\n",
       "      <td>2016-07-09 16:14:21+06</td>\n",
       "      <td>8</td>\n",
       "      <td>1468059261000</td>\n",
       "      <td>5</td>\n",
       "    </tr>\n",
       "  </tbody>\n",
       "</table>\n",
       "</div>"
      ],
      "text/plain": [
       "                                    uid  bv_number  speed  load  amount  \\\n",
       "0  8a1342e9-0672-4697-ab16-11d26257175a          2     64     1      75   \n",
       "1  6a901e67-89cc-4a39-b114-b021ad3632f7          2     30     8     255   \n",
       "2  e8035e41-7f73-4546-bd7f-9758e02b2935          2     17     2      50   \n",
       "3  1c01a952-909f-44c5-9b2b-3a4659e925c1          2     83     1     118   \n",
       "4  8ad25016-9770-4973-8808-7baf582dbace          2     38     5     192   \n",
       "\n",
       "                              image_name                    date  point  \\\n",
       "0  6f22c9daa38b1f44e22af9603300c8e0.jpeg  2016-07-09 16:11:59+06      6   \n",
       "1  5a60872f1888641e6b8f1826d2bd5d30.jpeg  2016-07-09 16:12:35+06      1   \n",
       "2  787b5cc570e8e24233571ec30a4b9f70.jpeg  2016-07-09 16:13:10+06      9   \n",
       "3  269695ac3a1ae469703fd565b6acf0c4.jpeg  2016-07-09 16:13:45+06      4   \n",
       "4  13883044fea46b141b8b61c5011a27a4.jpeg  2016-07-09 16:14:21+06      8   \n",
       "\n",
       "            time  id  \n",
       "0  1468059119000   1  \n",
       "1  1468059155000   2  \n",
       "2  1468059190000   3  \n",
       "3  1468059225000   4  \n",
       "4  1468059261000   5  "
      ]
     },
     "execution_count": 3,
     "metadata": {},
     "output_type": "execute_result"
    }
   ],
   "source": [
    "df.head()"
   ]
  },
  {
   "cell_type": "code",
   "execution_count": 4,
   "metadata": {},
   "outputs": [
    {
     "name": "stdout",
     "output_type": "stream",
     "text": [
      "<class 'pandas.core.frame.DataFrame'>\n",
      "RangeIndex: 9793393 entries, 0 to 9793392\n",
      "Data columns (total 10 columns):\n",
      "uid           object\n",
      "bv_number     int64\n",
      "speed         int64\n",
      "load          int64\n",
      "amount        int64\n",
      "image_name    object\n",
      "date          object\n",
      "point         int64\n",
      "time          int64\n",
      "id            int64\n",
      "dtypes: int64(7), object(3)\n",
      "memory usage: 747.2+ MB\n"
     ]
    }
   ],
   "source": [
    "df.info()"
   ]
  },
  {
   "cell_type": "markdown",
   "metadata": {},
   "source": [
    "#### Исходные данные:\n",
    "- uid – [тип данных: uuid, представляет собой 16-байтный (128-битный) номер В шестнадцатеричной системе счисления: d4372bfe-1738-440e-9121-6f96302a98c4\n",
    "- bv_number – тип данных: smallint, значение- номер камеры, пример: 10.\n",
    "- speed - тип данных: smallint, значение – средняя скорость потока, пример: 60.\n",
    "- load – тип данных: smallint, значение – загруженность дороги в процентах от 0 до 100\n",
    "- amount – тип данных: smallint, значение – количество автомашин за период времени, пример: 143\n",
    "- image_name – тип данных: character varying(40), имя файла в папке расположения.\n",
    "- date – тип данных: timestamp(6) with time zone, дата и время. Пример: \"2018-05-24 18:26:10+06\"\n",
    "- point – тип данных: smallint, бальность потока. от 1 до 10 (зависит от скорости потока и загруженности дороги)\n",
    "- time – тип данных: bigint, unix timestamp, пример: 1527164746000\n",
    "- id – bigint, serial. Внутренняя идентификатор записей в таблице\n",
    "\n",
    "#### Искомые данные на вывод:\n",
    "- Прогноз количества автотранспорта в определенных точках и загруженности дорог\n",
    "\n",
    "#### Факторы влияющие на прогноз:\n",
    "- Погода\n",
    "- Праздники"
   ]
  },
  {
   "cell_type": "markdown",
   "metadata": {
    "collapsed": true
   },
   "source": [
    "### Удаление столбцов, которые не влияют на обучение или дублируются"
   ]
  },
  {
   "cell_type": "code",
   "execution_count": 5,
   "metadata": {},
   "outputs": [
    {
     "data": {
      "text/html": [
       "<div>\n",
       "<style scoped>\n",
       "    .dataframe tbody tr th:only-of-type {\n",
       "        vertical-align: middle;\n",
       "    }\n",
       "\n",
       "    .dataframe tbody tr th {\n",
       "        vertical-align: top;\n",
       "    }\n",
       "\n",
       "    .dataframe thead th {\n",
       "        text-align: right;\n",
       "    }\n",
       "</style>\n",
       "<table border=\"1\" class=\"dataframe\">\n",
       "  <thead>\n",
       "    <tr style=\"text-align: right;\">\n",
       "      <th></th>\n",
       "      <th>amount</th>\n",
       "      <th>load</th>\n",
       "      <th>point</th>\n",
       "      <th>speed</th>\n",
       "      <th>bv_number</th>\n",
       "      <th>date</th>\n",
       "    </tr>\n",
       "  </thead>\n",
       "  <tbody>\n",
       "    <tr>\n",
       "      <th>0</th>\n",
       "      <td>75</td>\n",
       "      <td>1</td>\n",
       "      <td>6</td>\n",
       "      <td>64</td>\n",
       "      <td>2</td>\n",
       "      <td>2016-07-09 16:11:59+06</td>\n",
       "    </tr>\n",
       "    <tr>\n",
       "      <th>1</th>\n",
       "      <td>255</td>\n",
       "      <td>8</td>\n",
       "      <td>1</td>\n",
       "      <td>30</td>\n",
       "      <td>2</td>\n",
       "      <td>2016-07-09 16:12:35+06</td>\n",
       "    </tr>\n",
       "    <tr>\n",
       "      <th>2</th>\n",
       "      <td>50</td>\n",
       "      <td>2</td>\n",
       "      <td>9</td>\n",
       "      <td>17</td>\n",
       "      <td>2</td>\n",
       "      <td>2016-07-09 16:13:10+06</td>\n",
       "    </tr>\n",
       "    <tr>\n",
       "      <th>3</th>\n",
       "      <td>118</td>\n",
       "      <td>1</td>\n",
       "      <td>4</td>\n",
       "      <td>83</td>\n",
       "      <td>2</td>\n",
       "      <td>2016-07-09 16:13:45+06</td>\n",
       "    </tr>\n",
       "    <tr>\n",
       "      <th>4</th>\n",
       "      <td>192</td>\n",
       "      <td>5</td>\n",
       "      <td>8</td>\n",
       "      <td>38</td>\n",
       "      <td>2</td>\n",
       "      <td>2016-07-09 16:14:21+06</td>\n",
       "    </tr>\n",
       "  </tbody>\n",
       "</table>\n",
       "</div>"
      ],
      "text/plain": [
       "   amount  load  point  speed  bv_number                    date\n",
       "0      75     1      6     64          2  2016-07-09 16:11:59+06\n",
       "1     255     8      1     30          2  2016-07-09 16:12:35+06\n",
       "2      50     2      9     17          2  2016-07-09 16:13:10+06\n",
       "3     118     1      4     83          2  2016-07-09 16:13:45+06\n",
       "4     192     5      8     38          2  2016-07-09 16:14:21+06"
      ]
     },
     "execution_count": 5,
     "metadata": {},
     "output_type": "execute_result"
    }
   ],
   "source": [
    "bbvdata = df.drop([\n",
    "                    \"uid\", \n",
    "                    \"image_name\",  \n",
    "                    \"time\", \n",
    "                    \"id\"\n",
    "                  ], axis=1)\\\n",
    "                  [[\n",
    "                    \"amount\", \n",
    "                    \"load\", \n",
    "                    \"point\",\n",
    "                    \"speed\",                                           \n",
    "                    \"bv_number\", \n",
    "                    \"date\"\n",
    "                  ]]\n",
    "bbvdata.head()"
   ]
  },
  {
   "cell_type": "markdown",
   "metadata": {},
   "source": [
    "Так как значение amount (количество автомашин) за определенный период времени не может быть отрицательным, не рассматриваем **1728** строк данных "
   ]
  },
  {
   "cell_type": "code",
   "execution_count": 6,
   "metadata": {},
   "outputs": [
    {
     "name": "stdout",
     "output_type": "stream",
     "text": [
      "1728\n"
     ]
    }
   ],
   "source": [
    "print(sum(bbvdata[\"amount\"] < 0))\n",
    "bbvdata = bbvdata[bbvdata[\"amount\"] > 0]"
   ]
  },
  {
   "cell_type": "code",
   "execution_count": 7,
   "metadata": {},
   "outputs": [
    {
     "data": {
      "text/plain": [
       "amount       0\n",
       "load         0\n",
       "point        0\n",
       "speed        0\n",
       "bv_number    0\n",
       "date         0\n",
       "dtype: int64"
      ]
     },
     "execution_count": 7,
     "metadata": {},
     "output_type": "execute_result"
    }
   ],
   "source": [
    "bbvdata.isnull().sum()"
   ]
  },
  {
   "cell_type": "code",
   "execution_count": 17,
   "metadata": {},
   "outputs": [
    {
     "data": {
      "text/html": [
       "<div>\n",
       "<style scoped>\n",
       "    .dataframe tbody tr th:only-of-type {\n",
       "        vertical-align: middle;\n",
       "    }\n",
       "\n",
       "    .dataframe tbody tr th {\n",
       "        vertical-align: top;\n",
       "    }\n",
       "\n",
       "    .dataframe thead th {\n",
       "        text-align: right;\n",
       "    }\n",
       "</style>\n",
       "<table border=\"1\" class=\"dataframe\">\n",
       "  <thead>\n",
       "    <tr style=\"text-align: right;\">\n",
       "      <th></th>\n",
       "      <th>bv_number</th>\n",
       "      <th>speed</th>\n",
       "      <th>load</th>\n",
       "      <th>amount</th>\n",
       "      <th>point</th>\n",
       "      <th>time</th>\n",
       "      <th>id</th>\n",
       "    </tr>\n",
       "  </thead>\n",
       "  <tbody>\n",
       "    <tr>\n",
       "      <th>bv_number</th>\n",
       "      <td>1.000000</td>\n",
       "      <td>-0.103980</td>\n",
       "      <td>0.156110</td>\n",
       "      <td>0.008734</td>\n",
       "      <td>0.155559</td>\n",
       "      <td>0.019271</td>\n",
       "      <td>0.019402</td>\n",
       "    </tr>\n",
       "    <tr>\n",
       "      <th>speed</th>\n",
       "      <td>-0.103980</td>\n",
       "      <td>1.000000</td>\n",
       "      <td>-0.895534</td>\n",
       "      <td>0.009676</td>\n",
       "      <td>-0.895311</td>\n",
       "      <td>0.063658</td>\n",
       "      <td>0.063722</td>\n",
       "    </tr>\n",
       "    <tr>\n",
       "      <th>load</th>\n",
       "      <td>0.156110</td>\n",
       "      <td>-0.895534</td>\n",
       "      <td>1.000000</td>\n",
       "      <td>-0.035894</td>\n",
       "      <td>0.998505</td>\n",
       "      <td>0.004495</td>\n",
       "      <td>0.004646</td>\n",
       "    </tr>\n",
       "    <tr>\n",
       "      <th>amount</th>\n",
       "      <td>0.008734</td>\n",
       "      <td>0.009676</td>\n",
       "      <td>-0.035894</td>\n",
       "      <td>1.000000</td>\n",
       "      <td>-0.035237</td>\n",
       "      <td>-0.036946</td>\n",
       "      <td>-0.037111</td>\n",
       "    </tr>\n",
       "    <tr>\n",
       "      <th>point</th>\n",
       "      <td>0.155559</td>\n",
       "      <td>-0.895311</td>\n",
       "      <td>0.998505</td>\n",
       "      <td>-0.035237</td>\n",
       "      <td>1.000000</td>\n",
       "      <td>0.003148</td>\n",
       "      <td>0.003340</td>\n",
       "    </tr>\n",
       "    <tr>\n",
       "      <th>time</th>\n",
       "      <td>0.019271</td>\n",
       "      <td>0.063658</td>\n",
       "      <td>0.004495</td>\n",
       "      <td>-0.036946</td>\n",
       "      <td>0.003148</td>\n",
       "      <td>1.000000</td>\n",
       "      <td>0.999863</td>\n",
       "    </tr>\n",
       "    <tr>\n",
       "      <th>id</th>\n",
       "      <td>0.019402</td>\n",
       "      <td>0.063722</td>\n",
       "      <td>0.004646</td>\n",
       "      <td>-0.037111</td>\n",
       "      <td>0.003340</td>\n",
       "      <td>0.999863</td>\n",
       "      <td>1.000000</td>\n",
       "    </tr>\n",
       "  </tbody>\n",
       "</table>\n",
       "</div>"
      ],
      "text/plain": [
       "           bv_number     speed      load    amount     point      time  \\\n",
       "bv_number   1.000000 -0.103980  0.156110  0.008734  0.155559  0.019271   \n",
       "speed      -0.103980  1.000000 -0.895534  0.009676 -0.895311  0.063658   \n",
       "load        0.156110 -0.895534  1.000000 -0.035894  0.998505  0.004495   \n",
       "amount      0.008734  0.009676 -0.035894  1.000000 -0.035237 -0.036946   \n",
       "point       0.155559 -0.895311  0.998505 -0.035237  1.000000  0.003148   \n",
       "time        0.019271  0.063658  0.004495 -0.036946  0.003148  1.000000   \n",
       "id          0.019402  0.063722  0.004646 -0.037111  0.003340  0.999863   \n",
       "\n",
       "                 id  \n",
       "bv_number  0.019402  \n",
       "speed      0.063722  \n",
       "load       0.004646  \n",
       "amount    -0.037111  \n",
       "point      0.003340  \n",
       "time       0.999863  \n",
       "id         1.000000  "
      ]
     },
     "execution_count": 17,
     "metadata": {},
     "output_type": "execute_result"
    },
    {
     "data": {
      "image/png": "[encoded data removed]",
      "text/plain": [
       "<matplotlib.figure.Figure at 0x238c5a8d0>"
      ]
     },
     "metadata": {},
     "output_type": "display_data"
    }
   ],
   "source": [
    "sns.heatmap(bbvdata.corr(), cmap=\"coolwarm\")"
   ]
  },
  {
   "cell_type": "markdown",
   "metadata": {},
   "source": [
    "По тепловой карте корреляции видно, что поля **load** и **point** являются равнозначными и имеют одинаковое поведение по отношению к выходным данным.\n",
    "\n",
    "Видно, что корреляция поля **speed** по отношению к другим полям имеется(*amount*), но процент влияния меньше 40% и имеет смежную негативную корреляцию с **load** и **point**, так что имеет смысл не рассматривать это поле."
   ]
  },
  {
   "cell_type": "code",
   "execution_count": 9,
   "metadata": {},
   "outputs": [
    {
     "data": {
      "text/html": [
       "<div>\n",
       "<style scoped>\n",
       "    .dataframe tbody tr th:only-of-type {\n",
       "        vertical-align: middle;\n",
       "    }\n",
       "\n",
       "    .dataframe tbody tr th {\n",
       "        vertical-align: top;\n",
       "    }\n",
       "\n",
       "    .dataframe thead th {\n",
       "        text-align: right;\n",
       "    }\n",
       "</style>\n",
       "<table border=\"1\" class=\"dataframe\">\n",
       "  <thead>\n",
       "    <tr style=\"text-align: right;\">\n",
       "      <th></th>\n",
       "      <th>amount</th>\n",
       "      <th>load</th>\n",
       "      <th>bv_number</th>\n",
       "      <th>date</th>\n",
       "    </tr>\n",
       "  </thead>\n",
       "  <tbody>\n",
       "    <tr>\n",
       "      <th>0</th>\n",
       "      <td>75</td>\n",
       "      <td>1</td>\n",
       "      <td>2</td>\n",
       "      <td>2016-07-09 16:11:59+06</td>\n",
       "    </tr>\n",
       "    <tr>\n",
       "      <th>1</th>\n",
       "      <td>255</td>\n",
       "      <td>8</td>\n",
       "      <td>2</td>\n",
       "      <td>2016-07-09 16:12:35+06</td>\n",
       "    </tr>\n",
       "    <tr>\n",
       "      <th>2</th>\n",
       "      <td>50</td>\n",
       "      <td>2</td>\n",
       "      <td>2</td>\n",
       "      <td>2016-07-09 16:13:10+06</td>\n",
       "    </tr>\n",
       "    <tr>\n",
       "      <th>3</th>\n",
       "      <td>118</td>\n",
       "      <td>1</td>\n",
       "      <td>2</td>\n",
       "      <td>2016-07-09 16:13:45+06</td>\n",
       "    </tr>\n",
       "    <tr>\n",
       "      <th>4</th>\n",
       "      <td>192</td>\n",
       "      <td>5</td>\n",
       "      <td>2</td>\n",
       "      <td>2016-07-09 16:14:21+06</td>\n",
       "    </tr>\n",
       "  </tbody>\n",
       "</table>\n",
       "</div>"
      ],
      "text/plain": [
       "   amount  load  bv_number                    date\n",
       "0      75     1          2  2016-07-09 16:11:59+06\n",
       "1     255     8          2  2016-07-09 16:12:35+06\n",
       "2      50     2          2  2016-07-09 16:13:10+06\n",
       "3     118     1          2  2016-07-09 16:13:45+06\n",
       "4     192     5          2  2016-07-09 16:14:21+06"
      ]
     },
     "execution_count": 9,
     "metadata": {},
     "output_type": "execute_result"
    }
   ],
   "source": [
    "bbvdata = bbvdata.drop([\n",
    "                    \"point\",\n",
    "                    \"speed\"\n",
    "                  ], axis=1)\\\n",
    "                  [[\n",
    "                    \"amount\", \n",
    "                    \"load\",                                          \n",
    "                    \"bv_number\", \n",
    "                    \"date\"\n",
    "                  ]]\n",
    "bbvdata.head()"
   ]
  },
  {
   "cell_type": "markdown",
   "metadata": {},
   "source": [
    "### Дополнительные поля \n",
    "\n",
    "Так как загруженность на дорогах тесно связано с определенными периодами времени, имеет смысл разбить данные по месяцам, дням недели и по временным отрезкам. \n",
    "\n",
    "Мы можем агрегировать данные по временным отрезкам и поделить 24 часа на 144 сектора, где периодичностью изменений является 10 минут."
   ]
  },
  {
   "cell_type": "code",
   "execution_count": 10,
   "metadata": {
    "collapsed": true
   },
   "outputs": [],
   "source": [
    "bbvdata[\"date\"] = pd.to_datetime(bbvdata[\"date\"])"
   ]
  },
  {
   "cell_type": "code",
   "execution_count": 11,
   "metadata": {
    "collapsed": true
   },
   "outputs": [],
   "source": [
    "bbvdata[\"Year\"] = bbvdata[\"date\"].apply(lambda d: d.year)\n",
    "bbvdata[\"Hour\"] = bbvdata[\"date\"].apply(lambda d: d.hour)\n",
    "bbvdata[\"Month\"] = bbvdata[\"date\"].apply(lambda d: d.month)\n",
    "bbvdata[\"Chunk\"] = bbvdata[\"date\"].apply(lambda d: int((d.hour*60+d.minute)/10))\n",
    "bbvdata[\"Day of the Week\"] = bbvdata[\"date\"].apply(lambda d: d.weekday()).map({\n",
    "    0: 'Mon',\n",
    "    1: 'Tue',\n",
    "    2: 'Wed',\n",
    "    3: 'Thu',\n",
    "    4: 'Fri',\n",
    "    5: 'Sat',\n",
    "    6: 'Sun'\n",
    "})"
   ]
  },
  {
   "cell_type": "code",
   "execution_count": 12,
   "metadata": {},
   "outputs": [
    {
     "data": {
      "text/plain": [
       "<matplotlib.legend.Legend at 0x1140b8240>"
      ]
     },
     "execution_count": 12,
     "metadata": {},
     "output_type": "execute_result"
    },
    {
     "data": {
      "image/png": "[encoded data removed]",
      "text/plain": [
       "<matplotlib.figure.Figure at 0x11409c0b8>"
      ]
     },
     "metadata": {},
     "output_type": "display_data"
    }
   ],
   "source": [
    "sns.countplot(x=\"Year\", data=bbvdata, hue=\"bv_number\")\n",
    "plt.legend(bbox_to_anchor=(1.05, 1))"
   ]
  },
  {
   "cell_type": "code",
   "execution_count": 13,
   "metadata": {},
   "outputs": [
    {
     "data": {
      "text/plain": [
       "2017    4943524\n",
       "2016    2219376\n",
       "2018    1687425\n",
       "Name: Year, dtype: int64"
      ]
     },
     "execution_count": 13,
     "metadata": {},
     "output_type": "execute_result"
    }
   ],
   "source": [
    "bbvdata[\"Year\"].value_counts()"
   ]
  },
  {
   "cell_type": "markdown",
   "metadata": {},
   "source": [
    "На графике хорошо прослеживается контраст. Количество данных за 2016 год небольшой, и имеет смысл не рассматривать эти данные, так как не так сильно влияют на обучение"
   ]
  },
  {
   "cell_type": "code",
   "execution_count": 14,
   "metadata": {
    "collapsed": true
   },
   "outputs": [],
   "source": [
    "bbvdata = bbvdata[bbvdata[\"Year\"] > 2016]"
   ]
  },
  {
   "cell_type": "markdown",
   "metadata": {},
   "source": [
    "### Слияние с погодой \n",
    "\n",
    "Так как погодные явления сильно влияют на движение на дорогах, используем погоду как параметры, где \n",
    "- **T** - температура\n",
    "- **W1** - состояние погоды\n",
    "- **RRR** - дождь\n",
    "- **sss** - снег"
   ]
  },
  {
   "cell_type": "code",
   "execution_count": 56,
   "metadata": {
    "collapsed": true
   },
   "outputs": [],
   "source": [
    "weather = pd.read_excel(\"weather.xlsx\")"
   ]
  },
  {
   "cell_type": "code",
   "execution_count": 57,
   "metadata": {
    "collapsed": true
   },
   "outputs": [],
   "source": [
    "weather = weather[['Местное время в Алматы', 'T', 'W1', 'RRR', 'sss']]"
   ]
  },
  {
   "cell_type": "code",
   "execution_count": 58,
   "metadata": {},
   "outputs": [
    {
     "data": {
      "text/html": [
       "<div>\n",
       "<style scoped>\n",
       "    .dataframe tbody tr th:only-of-type {\n",
       "        vertical-align: middle;\n",
       "    }\n",
       "\n",
       "    .dataframe tbody tr th {\n",
       "        vertical-align: top;\n",
       "    }\n",
       "\n",
       "    .dataframe thead th {\n",
       "        text-align: right;\n",
       "    }\n",
       "</style>\n",
       "<table border=\"1\" class=\"dataframe\">\n",
       "  <thead>\n",
       "    <tr style=\"text-align: right;\">\n",
       "      <th></th>\n",
       "      <th>Местное время в Алматы</th>\n",
       "      <th>T</th>\n",
       "      <th>W1</th>\n",
       "      <th>RRR</th>\n",
       "      <th>sss</th>\n",
       "    </tr>\n",
       "  </thead>\n",
       "  <tbody>\n",
       "    <tr>\n",
       "      <th>0</th>\n",
       "      <td>24.05.2018 21:00</td>\n",
       "      <td>12.0</td>\n",
       "      <td>NaN</td>\n",
       "      <td>NaN</td>\n",
       "      <td>NaN</td>\n",
       "    </tr>\n",
       "    <tr>\n",
       "      <th>1</th>\n",
       "      <td>24.05.2018 18:00</td>\n",
       "      <td>14.5</td>\n",
       "      <td>NaN</td>\n",
       "      <td>NaN</td>\n",
       "      <td>NaN</td>\n",
       "    </tr>\n",
       "    <tr>\n",
       "      <th>2</th>\n",
       "      <td>24.05.2018 15:00</td>\n",
       "      <td>15.2</td>\n",
       "      <td>NaN</td>\n",
       "      <td>NaN</td>\n",
       "      <td>NaN</td>\n",
       "    </tr>\n",
       "    <tr>\n",
       "      <th>3</th>\n",
       "      <td>24.05.2018 12:00</td>\n",
       "      <td>13.2</td>\n",
       "      <td>NaN</td>\n",
       "      <td>11</td>\n",
       "      <td>NaN</td>\n",
       "    </tr>\n",
       "    <tr>\n",
       "      <th>4</th>\n",
       "      <td>24.05.2018 09:00</td>\n",
       "      <td>10.5</td>\n",
       "      <td>NaN</td>\n",
       "      <td>11</td>\n",
       "      <td>NaN</td>\n",
       "    </tr>\n",
       "  </tbody>\n",
       "</table>\n",
       "</div>"
      ],
      "text/plain": [
       "  Местное время в Алматы     T   W1  RRR  sss\n",
       "0       24.05.2018 21:00  12.0  NaN  NaN  NaN\n",
       "1       24.05.2018 18:00  14.5  NaN  NaN  NaN\n",
       "2       24.05.2018 15:00  15.2  NaN  NaN  NaN\n",
       "3       24.05.2018 12:00  13.2  NaN   11  NaN\n",
       "4       24.05.2018 09:00  10.5  NaN   11  NaN"
      ]
     },
     "execution_count": 58,
     "metadata": {},
     "output_type": "execute_result"
    }
   ],
   "source": [
    "weather.head()"
   ]
  },
  {
   "cell_type": "code",
   "execution_count": 59,
   "metadata": {},
   "outputs": [
    {
     "name": "stdout",
     "output_type": "stream",
     "text": [
      "<class 'pandas.core.frame.DataFrame'>\n",
      "RangeIndex: 5473 entries, 0 to 5472\n",
      "Data columns (total 5 columns):\n",
      "Местное время в Алматы    5473 non-null object\n",
      "T                         5472 non-null float64\n",
      "W1                        1488 non-null object\n",
      "RRR                       821 non-null object\n",
      "sss                       190 non-null object\n",
      "dtypes: float64(1), object(4)\n",
      "memory usage: 213.9+ KB\n"
     ]
    }
   ],
   "source": [
    "weather.info()"
   ]
  },
  {
   "cell_type": "code",
   "execution_count": 60,
   "metadata": {},
   "outputs": [
    {
     "data": {
      "text/plain": [
       "Местное время в Алматы       0\n",
       "T                            1\n",
       "W1                        3985\n",
       "RRR                       4652\n",
       "sss                       5283\n",
       "dtype: int64"
      ]
     },
     "execution_count": 60,
     "metadata": {},
     "output_type": "execute_result"
    }
   ],
   "source": [
    "weather.isnull().sum()"
   ]
  },
  {
   "cell_type": "code",
   "execution_count": 61,
   "metadata": {},
   "outputs": [],
   "source": [
    "weather = weather[~weather.isnull()[\"T\"]]"
   ]
  },
  {
   "cell_type": "code",
   "execution_count": 62,
   "metadata": {
    "collapsed": true
   },
   "outputs": [],
   "source": [
    "weather_states = [\n",
    "    'Туман или ледяной туман или сильная мгла.',\n",
    "    'Снег или дождь со снегом.',\n",
    "    'Ливень (ливни).',\n",
    "    'Ливни или перемещающиеся осадки.',\n",
    "    'Дождь.',\n",
    "    'Осадки',\n",
    "    'Явление, связанное с переносом ветром твердых частиц, видимость пониженная.',\n",
    "    'Гроза (грозы) с осадками или без них.',\n",
    "    'Морось.',\n",
    "    'Облака покрывали более половины неба в течение всего соответствующего периода.',\n",
    "    'Облака покрывали более половины неба в течение одной части соответствующего периода и половину или менее в течение другой части периода.',\n",
    "    'Облака покрывали половину неба или менее в течение всего соответствующего периода.'\n",
    "]"
   ]
  },
  {
   "cell_type": "code",
   "execution_count": 63,
   "metadata": {},
   "outputs": [],
   "source": [
    "weather = weather.replace(np.nan, 0)"
   ]
  },
  {
   "cell_type": "code",
   "execution_count": 67,
   "metadata": {},
   "outputs": [],
   "source": [
    "weather['W1'] = weather['W1'].apply(lambda w: 100-((weather_states.index(w) if type(w) != int else w) * 8))"
   ]
  },
  {
   "cell_type": "code",
   "execution_count": 69,
   "metadata": {},
   "outputs": [],
   "source": [
    "weather['RRR'] = weather['RRR'].replace(\"Следы осадков\", 1.0)\n",
    "weather['sss'] = weather['sss'].replace(\"Менее 0.5\", 0.5).replace(\"Снежный покров не постоянный.\", 0.3)"
   ]
  },
  {
   "cell_type": "code",
   "execution_count": 124,
   "metadata": {},
   "outputs": [],
   "source": [
    "weather = weather[pd.to_datetime(weather['Местное время в Алматы']).dt.year > 2016]\n",
    "weather['date'] = pd.to_datetime(weather['Местное время в Алматы']).apply(lambda d: datetime(d.year, d.month, d.day, d.hour))"
   ]
  },
  {
   "cell_type": "code",
   "execution_count": 77,
   "metadata": {},
   "outputs": [],
   "source": [
    "from datetime import datetime, timedelta\n",
    "import time"
   ]
  },
  {
   "cell_type": "code",
   "execution_count": 115,
   "metadata": {
    "collapsed": true
   },
   "outputs": [],
   "source": [
    "quarters = [0,0,0,3,3,3,6,6,6,9,9,9,12,12,12,15,15,15,18,18,18,21,21,21]"
   ]
  },
  {
   "cell_type": "code",
   "execution_count": 119,
   "metadata": {},
   "outputs": [],
   "source": [
    "bbvdata[\"date\"] = bbvdata[\"date\"].apply(lambda d: datetime(d.year, d.month, d.day, quarters[d.hour]))"
   ]
  },
  {
   "cell_type": "code",
   "execution_count": 125,
   "metadata": {},
   "outputs": [],
   "source": [
    "bbvdata = bbvdata.merge(weather.drop(\"Местное время в Алматы\",axis=1), on='date', how='inner')"
   ]
  },
  {
   "cell_type": "code",
   "execution_count": 129,
   "metadata": {},
   "outputs": [],
   "source": [
    "bbvdata = bbvdata.drop([\"date\", \"Hour\", \"Year\"], axis=1)"
   ]
  },
  {
   "cell_type": "code",
   "execution_count": 135,
   "metadata": {},
   "outputs": [
    {
     "data": {
      "text/html": [
       "<div>\n",
       "<style scoped>\n",
       "    .dataframe tbody tr th:only-of-type {\n",
       "        vertical-align: middle;\n",
       "    }\n",
       "\n",
       "    .dataframe tbody tr th {\n",
       "        vertical-align: top;\n",
       "    }\n",
       "\n",
       "    .dataframe thead th {\n",
       "        text-align: right;\n",
       "    }\n",
       "</style>\n",
       "<table border=\"1\" class=\"dataframe\">\n",
       "  <thead>\n",
       "    <tr style=\"text-align: right;\">\n",
       "      <th></th>\n",
       "      <th>amount</th>\n",
       "      <th>load</th>\n",
       "      <th>bv_number</th>\n",
       "      <th>Month</th>\n",
       "      <th>Chunk</th>\n",
       "      <th>Day of the Week</th>\n",
       "      <th>T</th>\n",
       "      <th>W1</th>\n",
       "      <th>RRR</th>\n",
       "      <th>sss</th>\n",
       "    </tr>\n",
       "  </thead>\n",
       "  <tbody>\n",
       "    <tr>\n",
       "      <th>0</th>\n",
       "      <td>1</td>\n",
       "      <td>80</td>\n",
       "      <td>13</td>\n",
       "      <td>5</td>\n",
       "      <td>37</td>\n",
       "      <td>Tue</td>\n",
       "      <td>16.3</td>\n",
       "      <td>44</td>\n",
       "      <td>0.0</td>\n",
       "      <td>0.0</td>\n",
       "    </tr>\n",
       "    <tr>\n",
       "      <th>1</th>\n",
       "      <td>85</td>\n",
       "      <td>30</td>\n",
       "      <td>6</td>\n",
       "      <td>5</td>\n",
       "      <td>37</td>\n",
       "      <td>Tue</td>\n",
       "      <td>16.3</td>\n",
       "      <td>44</td>\n",
       "      <td>0.0</td>\n",
       "      <td>0.0</td>\n",
       "    </tr>\n",
       "    <tr>\n",
       "      <th>2</th>\n",
       "      <td>62</td>\n",
       "      <td>10</td>\n",
       "      <td>7</td>\n",
       "      <td>5</td>\n",
       "      <td>37</td>\n",
       "      <td>Tue</td>\n",
       "      <td>16.3</td>\n",
       "      <td>44</td>\n",
       "      <td>0.0</td>\n",
       "      <td>0.0</td>\n",
       "    </tr>\n",
       "    <tr>\n",
       "      <th>3</th>\n",
       "      <td>73</td>\n",
       "      <td>10</td>\n",
       "      <td>4</td>\n",
       "      <td>5</td>\n",
       "      <td>37</td>\n",
       "      <td>Tue</td>\n",
       "      <td>16.3</td>\n",
       "      <td>44</td>\n",
       "      <td>0.0</td>\n",
       "      <td>0.0</td>\n",
       "    </tr>\n",
       "    <tr>\n",
       "      <th>4</th>\n",
       "      <td>67</td>\n",
       "      <td>10</td>\n",
       "      <td>9</td>\n",
       "      <td>5</td>\n",
       "      <td>37</td>\n",
       "      <td>Tue</td>\n",
       "      <td>16.3</td>\n",
       "      <td>44</td>\n",
       "      <td>0.0</td>\n",
       "      <td>0.0</td>\n",
       "    </tr>\n",
       "  </tbody>\n",
       "</table>\n",
       "</div>"
      ],
      "text/plain": [
       "   amount  load  bv_number  Month  Chunk Day of the Week     T  W1  RRR  sss\n",
       "0       1    80         13      5     37             Tue  16.3  44  0.0  0.0\n",
       "1      85    30          6      5     37             Tue  16.3  44  0.0  0.0\n",
       "2      62    10          7      5     37             Tue  16.3  44  0.0  0.0\n",
       "3      73    10          4      5     37             Tue  16.3  44  0.0  0.0\n",
       "4      67    10          9      5     37             Tue  16.3  44  0.0  0.0"
      ]
     },
     "execution_count": 135,
     "metadata": {},
     "output_type": "execute_result"
    }
   ],
   "source": [
    "bbvdata.head()"
   ]
  },
  {
   "cell_type": "code",
   "execution_count": 157,
   "metadata": {},
   "outputs": [
    {
     "data": {
      "text/plain": [
       "<matplotlib.axes._subplots.AxesSubplot at 0x1eff4f0f0>"
      ]
     },
     "execution_count": 157,
     "metadata": {},
     "output_type": "execute_result"
    },
    {
     "data": {
      "image/png": "[encoded data removed]",
      "text/plain": [
       "<matplotlib.figure.Figure at 0x1eff5c240>"
      ]
     },
     "metadata": {},
     "output_type": "display_data"
    }
   ],
   "source": [
    "sns.heatmap(bbvdata.groupby([\"Day of the Week\",\"Chunk\"]).max()[\"load\"].unstack(),cmap=\"coolwarm\")"
   ]
  },
  {
   "cell_type": "code",
   "execution_count": 159,
   "metadata": {},
   "outputs": [
    {
     "data": {
      "text/plain": [
       "<matplotlib.axes._subplots.AxesSubplot at 0x1f01ae710>"
      ]
     },
     "execution_count": 159,
     "metadata": {},
     "output_type": "execute_result"
    },
    {
     "data": {
      "image/png": "[encoded data removed]",
      "text/plain": [
       "<matplotlib.figure.Figure at 0x1e53777b8>"
      ]
     },
     "metadata": {},
     "output_type": "display_data"
    }
   ],
   "source": [
    "sns.heatmap(bbvdata.groupby([\"Day of the Week\",\"Chunk\"]).mean()[\"load\"].unstack(),cmap=\"coolwarm\")"
   ]
  },
  {
   "cell_type": "code",
   "execution_count": 169,
   "metadata": {},
   "outputs": [],
   "source": [
    "X = pd.get_dummies(bbvdata, columns=[\"bv_number\", \"Day of the Week\"])"
   ]
  },
  {
   "cell_type": "code",
   "execution_count": 170,
   "metadata": {},
   "outputs": [
    {
     "data": {
      "text/plain": [
       "(6224814, 28)"
      ]
     },
     "execution_count": 170,
     "metadata": {},
     "output_type": "execute_result"
    }
   ],
   "source": [
    "X.shape"
   ]
  },
  {
   "cell_type": "code",
   "execution_count": 171,
   "metadata": {},
   "outputs": [],
   "source": [
    "X.to_csv(\"preprocessed.csv\")"
   ]
  }
 ],
 "metadata": {
  "kernelspec": {
   "display_name": "Python 3",
   "language": "python",
   "name": "python3"
  },
  "language_info": {
   "codemirror_mode": {
    "name": "ipython",
    "version": 3
   },
   "file_extension": ".py",
   "mimetype": "text/x-python",
   "name": "python",
   "nbconvert_exporter": "python",
   "pygments_lexer": "ipython3",
   "version": "3.6.1"
  }
 },
 "nbformat": 4,
 "nbformat_minor": 2
}
