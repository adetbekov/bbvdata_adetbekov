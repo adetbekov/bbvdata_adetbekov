{
 "cells": [
  {
   "cell_type": "code",
   "execution_count": 3,
   "metadata": {},
   "outputs": [
    {
     "name": "stderr",
     "output_type": "stream",
     "text": [
      "/Users/dosya/Projects/lab_iis/jupyter/lib/python3.6/site-packages/h5py/__init__.py:36: FutureWarning: Conversion of the second argument of issubdtype from `float` to `np.floating` is deprecated. In future, it will be treated as `np.float64 == np.dtype(float).type`.\n",
      "  from ._conv import register_converters as _register_converters\n"
     ]
    }
   ],
   "source": [
    "import tensorflow as tf\n",
    "%matplotlib inline"
   ]
  },
  {
   "cell_type": "code",
   "execution_count": 4,
   "metadata": {
    "collapsed": true
   },
   "outputs": [],
   "source": [
    "import pandas as pd\n",
    "import numpy as np\n",
    "df = pd.read_csv(\"telemetrika_db.csv\", header=0)"
   ]
  },
  {
   "cell_type": "code",
   "execution_count": 5,
   "metadata": {},
   "outputs": [
    {
     "data": {
      "text/plain": [
       "['uid',\n",
       " 'bv_number',\n",
       " 'speed',\n",
       " 'load',\n",
       " 'amount',\n",
       " 'image_name',\n",
       " 'date',\n",
       " 'point',\n",
       " 'time',\n",
       " 'id']"
      ]
     },
     "execution_count": 5,
     "metadata": {},
     "output_type": "execute_result"
    }
   ],
   "source": [
    "list(df.columns)"
   ]
  },
  {
   "cell_type": "code",
   "execution_count": 6,
   "metadata": {
    "collapsed": true
   },
   "outputs": [],
   "source": [
    "clean_df = df.drop(['uid', 'image_name', 'id'], axis=1)"
   ]
  },
  {
   "cell_type": "code",
   "execution_count": 7,
   "metadata": {
    "collapsed": true
   },
   "outputs": [],
   "source": [
    "clean_df['time'] = clean_df['time'].floordiv(1000)\n",
    "clean_df_old = clean_df.copy()"
   ]
  },
  {
   "cell_type": "code",
   "execution_count": 8,
   "metadata": {},
   "outputs": [
    {
     "data": {
      "text/html": [
       "<div>\n",
       "<style>\n",
       "    .dataframe thead tr:only-child th {\n",
       "        text-align: right;\n",
       "    }\n",
       "\n",
       "    .dataframe thead th {\n",
       "        text-align: left;\n",
       "    }\n",
       "\n",
       "    .dataframe tbody tr th {\n",
       "        vertical-align: top;\n",
       "    }\n",
       "</style>\n",
       "<table border=\"1\" class=\"dataframe\">\n",
       "  <thead>\n",
       "    <tr style=\"text-align: right;\">\n",
       "      <th></th>\n",
       "      <th>bv_number</th>\n",
       "      <th>speed</th>\n",
       "      <th>load</th>\n",
       "      <th>amount</th>\n",
       "      <th>date</th>\n",
       "      <th>point</th>\n",
       "      <th>time</th>\n",
       "    </tr>\n",
       "  </thead>\n",
       "  <tbody>\n",
       "    <tr>\n",
       "      <th>0</th>\n",
       "      <td>2</td>\n",
       "      <td>64</td>\n",
       "      <td>1</td>\n",
       "      <td>75</td>\n",
       "      <td>2016-07-09 16:11:59+06</td>\n",
       "      <td>6</td>\n",
       "      <td>1468059119</td>\n",
       "    </tr>\n",
       "    <tr>\n",
       "      <th>1</th>\n",
       "      <td>2</td>\n",
       "      <td>30</td>\n",
       "      <td>8</td>\n",
       "      <td>255</td>\n",
       "      <td>2016-07-09 16:12:35+06</td>\n",
       "      <td>1</td>\n",
       "      <td>1468059155</td>\n",
       "    </tr>\n",
       "    <tr>\n",
       "      <th>2</th>\n",
       "      <td>2</td>\n",
       "      <td>17</td>\n",
       "      <td>2</td>\n",
       "      <td>50</td>\n",
       "      <td>2016-07-09 16:13:10+06</td>\n",
       "      <td>9</td>\n",
       "      <td>1468059190</td>\n",
       "    </tr>\n",
       "    <tr>\n",
       "      <th>3</th>\n",
       "      <td>2</td>\n",
       "      <td>83</td>\n",
       "      <td>1</td>\n",
       "      <td>118</td>\n",
       "      <td>2016-07-09 16:13:45+06</td>\n",
       "      <td>4</td>\n",
       "      <td>1468059225</td>\n",
       "    </tr>\n",
       "    <tr>\n",
       "      <th>4</th>\n",
       "      <td>2</td>\n",
       "      <td>38</td>\n",
       "      <td>5</td>\n",
       "      <td>192</td>\n",
       "      <td>2016-07-09 16:14:21+06</td>\n",
       "      <td>8</td>\n",
       "      <td>1468059261</td>\n",
       "    </tr>\n",
       "    <tr>\n",
       "      <th>5</th>\n",
       "      <td>2</td>\n",
       "      <td>83</td>\n",
       "      <td>3</td>\n",
       "      <td>250</td>\n",
       "      <td>2016-07-09 16:14:56+06</td>\n",
       "      <td>4</td>\n",
       "      <td>1468059296</td>\n",
       "    </tr>\n",
       "    <tr>\n",
       "      <th>6</th>\n",
       "      <td>2</td>\n",
       "      <td>10</td>\n",
       "      <td>15</td>\n",
       "      <td>158</td>\n",
       "      <td>2016-07-09 16:15:31+06</td>\n",
       "      <td>9</td>\n",
       "      <td>1468059331</td>\n",
       "    </tr>\n",
       "    <tr>\n",
       "      <th>7</th>\n",
       "      <td>2</td>\n",
       "      <td>33</td>\n",
       "      <td>8</td>\n",
       "      <td>279</td>\n",
       "      <td>2016-07-09 16:16:07+06</td>\n",
       "      <td>8</td>\n",
       "      <td>1468059367</td>\n",
       "    </tr>\n",
       "    <tr>\n",
       "      <th>8</th>\n",
       "      <td>2</td>\n",
       "      <td>25</td>\n",
       "      <td>10</td>\n",
       "      <td>257</td>\n",
       "      <td>2016-07-09 16:16:42+06</td>\n",
       "      <td>9</td>\n",
       "      <td>1468059402</td>\n",
       "    </tr>\n",
       "    <tr>\n",
       "      <th>9</th>\n",
       "      <td>2</td>\n",
       "      <td>60</td>\n",
       "      <td>1</td>\n",
       "      <td>117</td>\n",
       "      <td>2016-07-09 16:17:17+06</td>\n",
       "      <td>1</td>\n",
       "      <td>1468059437</td>\n",
       "    </tr>\n",
       "  </tbody>\n",
       "</table>\n",
       "</div>"
      ],
      "text/plain": [
       "   bv_number  speed  load  amount                    date  point        time\n",
       "0          2     64     1      75  2016-07-09 16:11:59+06      6  1468059119\n",
       "1          2     30     8     255  2016-07-09 16:12:35+06      1  1468059155\n",
       "2          2     17     2      50  2016-07-09 16:13:10+06      9  1468059190\n",
       "3          2     83     1     118  2016-07-09 16:13:45+06      4  1468059225\n",
       "4          2     38     5     192  2016-07-09 16:14:21+06      8  1468059261\n",
       "5          2     83     3     250  2016-07-09 16:14:56+06      4  1468059296\n",
       "6          2     10    15     158  2016-07-09 16:15:31+06      9  1468059331\n",
       "7          2     33     8     279  2016-07-09 16:16:07+06      8  1468059367\n",
       "8          2     25    10     257  2016-07-09 16:16:42+06      9  1468059402\n",
       "9          2     60     1     117  2016-07-09 16:17:17+06      1  1468059437"
      ]
     },
     "execution_count": 8,
     "metadata": {},
     "output_type": "execute_result"
    }
   ],
   "source": [
    "clean_df[:10]"
   ]
  },
  {
   "cell_type": "code",
   "execution_count": 9,
   "metadata": {},
   "outputs": [
    {
     "name": "stdout",
     "output_type": "stream",
     "text": [
      "1468059119 to 1527164748\n"
     ]
    }
   ],
   "source": [
    "from datetime import datetime, timedelta\n",
    "end_datetime = clean_df['time'].max()\n",
    "begin_datetime = clean_df['time'].min()\n",
    "print(begin_datetime, 'to', end_datetime)"
   ]
  },
  {
   "cell_type": "code",
   "execution_count": 10,
   "metadata": {
    "collapsed": true
   },
   "outputs": [],
   "source": [
    "weather_df = pd.read_excel(\"weather.xlsx\")"
   ]
  },
  {
   "cell_type": "code",
   "execution_count": 11,
   "metadata": {
    "collapsed": true
   },
   "outputs": [],
   "source": [
    "clean_weather_df = weather_df[['Местное время в Алматы', 'T', 'W1', 'RRR', 'sss']]"
   ]
  },
  {
   "cell_type": "code",
   "execution_count": 12,
   "metadata": {
    "collapsed": true
   },
   "outputs": [],
   "source": [
    "clean_weather_df = clean_weather_df.replace(np.nan, 0)"
   ]
  },
  {
   "cell_type": "code",
   "execution_count": 13,
   "metadata": {
    "collapsed": true
   },
   "outputs": [],
   "source": [
    "weather_states = [\n",
    "    'Туман или ледяной туман или сильная мгла.',\n",
    "    'Снег или дождь со снегом.',\n",
    "    'Ливень (ливни).',\n",
    "    'Ливни или перемещающиеся осадки.',\n",
    "    'Дождь.',\n",
    "    'Осадки',\n",
    "    'Явление, связанное с переносом ветром твердых частиц, видимость пониженная.',\n",
    "    'Гроза (грозы) с осадками или без них.',\n",
    "    'Морось.',\n",
    "    'Облака покрывали более половины неба в течение всего соответствующего периода.',\n",
    "    'Облака покрывали более половины неба в течение одной части соответствующего периода и половину или менее в течение другой части периода.',\n",
    "    'Облака покрывали половину неба или менее в течение всего соответствующего периода.'\n",
    "]\n",
    "\n",
    "for i, v in enumerate(weather_states):\n",
    "    clean_weather_df['W1'] = clean_weather_df['W1'].replace(v, 100-(i*8))"
   ]
  },
  {
   "cell_type": "code",
   "execution_count": 14,
   "metadata": {
    "collapsed": true
   },
   "outputs": [],
   "source": [
    "clean_weather_df['RRR'] = clean_weather_df['RRR'].replace(\"Следы осадков\", 1.0)\n",
    "clean_weather_df['sss'] = clean_weather_df['sss'].replace(\"Менее 0.5\", 0.5)\n",
    "clean_weather_df['sss'] = clean_weather_df['sss'].replace(\"Снежный покров не постоянный.\", 0.3)"
   ]
  },
  {
   "cell_type": "code",
   "execution_count": 15,
   "metadata": {
    "collapsed": true
   },
   "outputs": [],
   "source": [
    "import time\n",
    "clean_weather_df['Местное время в Алматы'] = pd.to_datetime(clean_weather_df['Местное время в Алматы'])\n",
    "clean_weather_df['Местное время в Алматы'] = [int(time.mktime(i.timetuple())) for i in clean_weather_df['Местное время в Алматы']]"
   ]
  },
  {
   "cell_type": "code",
   "execution_count": 16,
   "metadata": {},
   "outputs": [
    {
     "data": {
      "text/html": [
       "<div>\n",
       "<style>\n",
       "    .dataframe thead tr:only-child th {\n",
       "        text-align: right;\n",
       "    }\n",
       "\n",
       "    .dataframe thead th {\n",
       "        text-align: left;\n",
       "    }\n",
       "\n",
       "    .dataframe tbody tr th {\n",
       "        vertical-align: top;\n",
       "    }\n",
       "</style>\n",
       "<table border=\"1\" class=\"dataframe\">\n",
       "  <thead>\n",
       "    <tr style=\"text-align: right;\">\n",
       "      <th></th>\n",
       "      <th>Местное время в Алматы</th>\n",
       "      <th>T</th>\n",
       "      <th>W1</th>\n",
       "      <th>RRR</th>\n",
       "      <th>sss</th>\n",
       "    </tr>\n",
       "  </thead>\n",
       "  <tbody>\n",
       "    <tr>\n",
       "      <th>0</th>\n",
       "      <td>1527174000</td>\n",
       "      <td>12.0</td>\n",
       "      <td>0</td>\n",
       "      <td>0.0</td>\n",
       "      <td>0.0</td>\n",
       "    </tr>\n",
       "    <tr>\n",
       "      <th>1</th>\n",
       "      <td>1527163200</td>\n",
       "      <td>14.5</td>\n",
       "      <td>0</td>\n",
       "      <td>0.0</td>\n",
       "      <td>0.0</td>\n",
       "    </tr>\n",
       "    <tr>\n",
       "      <th>2</th>\n",
       "      <td>1527152400</td>\n",
       "      <td>15.2</td>\n",
       "      <td>0</td>\n",
       "      <td>0.0</td>\n",
       "      <td>0.0</td>\n",
       "    </tr>\n",
       "    <tr>\n",
       "      <th>3</th>\n",
       "      <td>1527141600</td>\n",
       "      <td>13.2</td>\n",
       "      <td>0</td>\n",
       "      <td>11.0</td>\n",
       "      <td>0.0</td>\n",
       "    </tr>\n",
       "    <tr>\n",
       "      <th>4</th>\n",
       "      <td>1527130800</td>\n",
       "      <td>10.5</td>\n",
       "      <td>0</td>\n",
       "      <td>11.0</td>\n",
       "      <td>0.0</td>\n",
       "    </tr>\n",
       "    <tr>\n",
       "      <th>5</th>\n",
       "      <td>1527120000</td>\n",
       "      <td>5.0</td>\n",
       "      <td>0</td>\n",
       "      <td>0.0</td>\n",
       "      <td>0.0</td>\n",
       "    </tr>\n",
       "    <tr>\n",
       "      <th>6</th>\n",
       "      <td>1527109200</td>\n",
       "      <td>5.0</td>\n",
       "      <td>84</td>\n",
       "      <td>0.0</td>\n",
       "      <td>0.0</td>\n",
       "    </tr>\n",
       "    <tr>\n",
       "      <th>7</th>\n",
       "      <td>1527098400</td>\n",
       "      <td>4.8</td>\n",
       "      <td>44</td>\n",
       "      <td>20.0</td>\n",
       "      <td>0.0</td>\n",
       "    </tr>\n",
       "    <tr>\n",
       "      <th>8</th>\n",
       "      <td>1527087600</td>\n",
       "      <td>5.8</td>\n",
       "      <td>44</td>\n",
       "      <td>20.0</td>\n",
       "      <td>0.0</td>\n",
       "    </tr>\n",
       "    <tr>\n",
       "      <th>9</th>\n",
       "      <td>1527076800</td>\n",
       "      <td>12.2</td>\n",
       "      <td>44</td>\n",
       "      <td>0.0</td>\n",
       "      <td>0.0</td>\n",
       "    </tr>\n",
       "  </tbody>\n",
       "</table>\n",
       "</div>"
      ],
      "text/plain": [
       "   Местное время в Алматы     T  W1   RRR  sss\n",
       "0              1527174000  12.0   0   0.0  0.0\n",
       "1              1527163200  14.5   0   0.0  0.0\n",
       "2              1527152400  15.2   0   0.0  0.0\n",
       "3              1527141600  13.2   0  11.0  0.0\n",
       "4              1527130800  10.5   0  11.0  0.0\n",
       "5              1527120000   5.0   0   0.0  0.0\n",
       "6              1527109200   5.0  84   0.0  0.0\n",
       "7              1527098400   4.8  44  20.0  0.0\n",
       "8              1527087600   5.8  44  20.0  0.0\n",
       "9              1527076800  12.2  44   0.0  0.0"
      ]
     },
     "execution_count": 16,
     "metadata": {},
     "output_type": "execute_result"
    }
   ],
   "source": [
    "clean_weather_df[:10]"
   ]
  },
  {
   "cell_type": "code",
   "execution_count": 17,
   "metadata": {
    "collapsed": true
   },
   "outputs": [],
   "source": [
    "weather_matrix_data = []\n",
    "for i in list(clean_weather_df.columns):\n",
    "    smooth = []\n",
    "    for j, v in enumerate(clean_weather_df[i][1:]):\n",
    "        smooth.extend(list(map(int, np.linspace(v, clean_weather_df[i][j], num=4))))\n",
    "    if i == \"Местное время в Алматы\":\n",
    "        smooth = list(map(datetime.fromtimestamp, smooth))\n",
    "    weather_matrix_data.append(smooth)"
   ]
  },
  {
   "cell_type": "code",
   "execution_count": 18,
   "metadata": {
    "collapsed": true
   },
   "outputs": [],
   "source": [
    "weather_matrix = np.array(list(zip(*weather_matrix_data)))"
   ]
  },
  {
   "cell_type": "code",
   "execution_count": 19,
   "metadata": {
    "collapsed": true
   },
   "outputs": [],
   "source": [
    "x_train = clean_df.as_matrix()"
   ]
  },
  {
   "cell_type": "code",
   "execution_count": 20,
   "metadata": {
    "collapsed": true
   },
   "outputs": [],
   "source": [
    "new_weather_df = pd.DataFrame(weather_matrix, columns=['date', 'temperature', 'weather', 'rain', 'snow']) \n",
    "new_weather_df['date'] = pd.to_datetime(new_weather_df['date'])"
   ]
  },
  {
   "cell_type": "code",
   "execution_count": 21,
   "metadata": {
    "collapsed": true
   },
   "outputs": [],
   "source": [
    "new_weather_df = new_weather_df.drop_duplicates()"
   ]
  },
  {
   "cell_type": "code",
   "execution_count": 22,
   "metadata": {
    "collapsed": true
   },
   "outputs": [],
   "source": [
    "clean_df['date'] = pd.to_datetime(clean_df['date'])\n",
    "clean_df['date'] = clean_df['date'].apply(lambda dt: datetime(dt.year, dt.month, dt.day, dt.hour))"
   ]
  },
  {
   "cell_type": "code",
   "execution_count": 23,
   "metadata": {
    "collapsed": true
   },
   "outputs": [],
   "source": [
    "merge = clean_df.merge(new_weather_df, on='date', how='inner')"
   ]
  },
  {
   "cell_type": "code",
   "execution_count": 24,
   "metadata": {
    "collapsed": true
   },
   "outputs": [],
   "source": [
    "merge['date'] = pd.to_datetime(clean_df_old['date'])"
   ]
  },
  {
   "cell_type": "code",
   "execution_count": 25,
   "metadata": {
    "collapsed": true
   },
   "outputs": [],
   "source": [
    "merge['month'] = list(merge['date'].apply(lambda dt: int(dt.month)))"
   ]
  },
  {
   "cell_type": "code",
   "execution_count": 26,
   "metadata": {
    "collapsed": true
   },
   "outputs": [],
   "source": [
    "import numpy as np"
   ]
  },
  {
   "cell_type": "code",
   "execution_count": 27,
   "metadata": {
    "collapsed": true
   },
   "outputs": [],
   "source": [
    "merge['weekday'] = list(merge['date'].apply(lambda dt: np.eye(7)[int(dt.weekday())]))"
   ]
  },
  {
   "cell_type": "code",
   "execution_count": 28,
   "metadata": {
    "collapsed": true
   },
   "outputs": [],
   "source": [
    "merge['chunk'] = list(merge['date'].apply(lambda dt: int((dt.hour*60+dt.minute)/10)))"
   ]
  },
  {
   "cell_type": "code",
   "execution_count": 29,
   "metadata": {
    "collapsed": true
   },
   "outputs": [],
   "source": [
    "merge = merge.drop(['date', 'time'], axis=1)"
   ]
  },
  {
   "cell_type": "code",
   "execution_count": 30,
   "metadata": {
    "collapsed": true
   },
   "outputs": [],
   "source": [
    "weekday = pd.DataFrame(list(merge[\"weekday\"]), columns='Monday Tuesday Wednesday Thursday Friday Saturday Sunday'.split())"
   ]
  },
  {
   "cell_type": "code",
   "execution_count": 31,
   "metadata": {
    "collapsed": true
   },
   "outputs": [],
   "source": [
    "merge = pd.concat([merge, weekday],axis=1)"
   ]
  },
  {
   "cell_type": "code",
   "execution_count": 32,
   "metadata": {
    "collapsed": true
   },
   "outputs": [],
   "source": [
    "merge.drop(\"weekday\", axis=1, inplace=True)"
   ]
  },
  {
   "cell_type": "code",
   "execution_count": 33,
   "metadata": {},
   "outputs": [
    {
     "data": {
      "text/plain": [
       "array([[<matplotlib.axes._subplots.AxesSubplot object at 0x105b7e240>,\n",
       "        <matplotlib.axes._subplots.AxesSubplot object at 0x105c3fb70>,\n",
       "        <matplotlib.axes._subplots.AxesSubplot object at 0x16a8ddb00>,\n",
       "        <matplotlib.axes._subplots.AxesSubplot object at 0x304481b00>],\n",
       "       [<matplotlib.axes._subplots.AxesSubplot object at 0x12092cfd0>,\n",
       "        <matplotlib.axes._subplots.AxesSubplot object at 0x120921048>,\n",
       "        <matplotlib.axes._subplots.AxesSubplot object at 0x30446a320>,\n",
       "        <matplotlib.axes._subplots.AxesSubplot object at 0x3044f8320>],\n",
       "       [<matplotlib.axes._subplots.AxesSubplot object at 0x105c99320>,\n",
       "        <matplotlib.axes._subplots.AxesSubplot object at 0x1066c5320>,\n",
       "        <matplotlib.axes._subplots.AxesSubplot object at 0x105cb4c88>,\n",
       "        <matplotlib.axes._subplots.AxesSubplot object at 0x120227da0>],\n",
       "       [<matplotlib.axes._subplots.AxesSubplot object at 0x12025d2b0>,\n",
       "        <matplotlib.axes._subplots.AxesSubplot object at 0x12061e7f0>,\n",
       "        <matplotlib.axes._subplots.AxesSubplot object at 0x1206b4668>,\n",
       "        <matplotlib.axes._subplots.AxesSubplot object at 0x12075e860>]],\n",
       "      dtype=object)"
      ]
     },
     "execution_count": 33,
     "metadata": {},
     "output_type": "execute_result"
    },
    {
     "data": {
      "image/png": "[encoded data removed]",
      "text/plain": [
       "<matplotlib.figure.Figure at 0x105945ba8>"
      ]
     },
     "metadata": {},
     "output_type": "display_data"
    }
   ],
   "source": [
    "merge.to_csv(\"preprocessed.csv\")\n",
    "merge.hist()"
   ]
  },
  {
   "cell_type": "code",
   "execution_count": 42,
   "metadata": {},
   "outputs": [
    {
     "data": {
      "text/plain": [
       "((8841960, 16), (8841960, 2))"
      ]
     },
     "execution_count": 42,
     "metadata": {},
     "output_type": "execute_result"
    }
   ],
   "source": [
    "x_train, y_train = merge.drop([\"load\", \"amount\"],axis=1).as_matrix(), merge[[\"load\", \"amount\"]].as_matrix()\n",
    "x_train.shape, y_train.shape"
   ]
  },
  {
   "cell_type": "code",
   "execution_count": 55,
   "metadata": {
    "collapsed": true
   },
   "outputs": [],
   "source": [
    "train_length = len(x_train)\n",
    "test_length = len(y_train)\n",
    "features_length = x_train.shape[1]"
   ]
  },
  {
   "cell_type": "code",
   "execution_count": 56,
   "metadata": {
    "collapsed": true
   },
   "outputs": [],
   "source": [
    "n_nodes_hl1 = 20\n",
    "n_nodes_hl2 = 15\n",
    "n_nodes_hl3 = 10"
   ]
  },
  {
   "cell_type": "code",
   "execution_count": 57,
   "metadata": {
    "collapsed": true
   },
   "outputs": [],
   "source": [
    "x = tf.placeholder('float', [None, features_length])\n",
    "y = tf.placeholder('float', [None, 2])"
   ]
  },
  {
   "cell_type": "code",
   "execution_count": 58,
   "metadata": {
    "collapsed": true
   },
   "outputs": [],
   "source": [
    "def neural_network_model(data):\n",
    "    hidden_l1 = {'weights': tf.Variable(tf.random_normal([features_length, n_nodes_hl1])),\n",
    "                 'biases': tf.Variable(tf.random_normal([n_nodes_hl1]))}\n",
    "    \n",
    "    hidden_l2 = {'weights': tf.Variable(tf.random_normal([n_nodes_hl1, n_nodes_hl2])),\n",
    "                 'biases': tf.Variable(tf.random_normal([n_nodes_hl2]))}\n",
    "\n",
    "    hidden_l3 = {'weights': tf.Variable(tf.random_normal([n_nodes_hl2, n_nodes_hl3])),\n",
    "                 'biases': tf.Variable(tf.random_normal([n_nodes_hl3]))}\n",
    "\n",
    "    output_l = {'weights': tf.Variable(tf.random_normal([n_nodes_hl3, 1])),\n",
    "                'biases': tf.Variable(tf.random_normal([1]))}\n",
    "\n",
    "    l1 = tf.add(tf.matmul(data, hidden_l1['weights']), hidden_l1['biases'])\n",
    "    l1 = tf.nn.sigmoid(l1) # maybe sigmoid\n",
    "\n",
    "    l2 = tf.add(tf.matmul(l1, hidden_l2['weights']), hidden_l2['biases'])\n",
    "    l2 = tf.nn.relu(l2)\n",
    "\n",
    "    l3 = tf.add(tf.matmul(l2, hidden_l3['weights']), hidden_l3['biases'])\n",
    "    l3 = tf.nn.relu(l3)\n",
    "\n",
    "    output = tf.add(tf.matmul(l3, output_l['weights']), output_l['biases'])\n",
    "    return output"
   ]
  },
  {
   "cell_type": "code",
   "execution_count": 83,
   "metadata": {
    "collapsed": true
   },
   "outputs": [],
   "source": [
    "def train_neural_network(x):\n",
    "    prediction = neural_network_model(x)\n",
    "#     cost = tf.reduce_mean(tf.nn.softmax_cross_entropy_with_logits(logits=prediction, labels=y)) \n",
    "#     cost = tf.losses.mean_squared_error(labels=y, predictions=prediction)\n",
    "    cost = tf.reduce_mean(tf.squared_difference(prediction, y))\n",
    "    optimizer = tf.train.AdamOptimizer(learning_rate=0.0005).minimize(cost)\n",
    "    epochs_no = 200\n",
    " \n",
    "    gpu_options = tf.GPUOptions(allow_growth=True)\n",
    "    with tf.Session(config=tf.ConfigProto(gpu_options=gpu_options)) as sess:\n",
    "        sess.run(tf.global_variables_initializer())\n",
    "  \n",
    "        # training\n",
    "        for epoch in range(epochs_no):\n",
    "            epoch_x = x_train[:-20]\n",
    "            epoch_y = y_train[:-20]\n",
    "            _, c = sess.run([optimizer, cost], feed_dict = {x: epoch_x, y: epoch_y})\n",
    "            print('Epoch', epoch, 'completed out of', epochs_no, \"cost:\", c)\n",
    "  \n",
    "        # testing\n",
    "        correct = tf.equal(tf.argmax(prediction, 1), tf.argmax(y, 1))\n",
    "        accuracy = tf.reduce_mean(tf.cast(correct, 'float'))\n",
    "        print('Accuracy:', accuracy.eval({x: x_train[-20:], y: y_train[-20:]}))\n",
    "#         tests = sess.run([prediction], feed_dict={x: features_for_testing})\n",
    "#         print(tests, np.array(tests).shape)\n",
    "    sess.close()"
   ]
  },
  {
   "cell_type": "code",
   "execution_count": null,
   "metadata": {
    "collapsed": true
   },
   "outputs": [],
   "source": [
    "train_neural_network(x)"
   ]
  },
  {
   "cell_type": "code",
   "execution_count": null,
   "metadata": {
    "collapsed": true
   },
   "outputs": [],
   "source": [
    "prediction = neural_network_model(x)\n",
    "#     cost = tf.reduce_mean(tf.nn.softmax_cross_entropy_with_logits(logits=prediction, labels=y)) \n",
    "#     cost = tf.losses.mean_squared_error(labels=y, predictions=prediction)\n",
    "# cost = tf.reduce_mean(tf.squared_difference(prediction, y))\n",
    "# optimizer = tf.train.AdamOptimizer(learning_rate=0.0005).minimize(cost)\n",
    "# epochs_no = 50\n",
    "# with tf.Session() as sess:\n",
    "#     sess.run(tf.global_variables_initializer())\n",
    "#     print(x_train[-20:])\n",
    "#     print(y_train[-20:])\n",
    "#     tests = sess.run(prediction, feed_dict={x: x_train[-20:]})\n",
    "#     print(tests, np.array(tests).shape)\n",
    "#     sess.close()"
   ]
  },
  {
   "cell_type": "code",
   "execution_count": 1,
   "metadata": {},
   "outputs": [
    {
     "ename": "NameError",
     "evalue": "name 'merge' is not defined",
     "output_type": "error",
     "traceback": [
      "\u001b[0;31m---------------------------------------------------------------------------\u001b[0m",
      "\u001b[0;31mNameError\u001b[0m                                 Traceback (most recent call last)",
      "\u001b[0;32m<ipython-input-1-448a611e90ae>\u001b[0m in \u001b[0;36m<module>\u001b[0;34m()\u001b[0m\n\u001b[0;32m----> 1\u001b[0;31m \u001b[0mmerge\u001b[0m\u001b[0;34m\u001b[0m\u001b[0m\n\u001b[0m",
      "\u001b[0;31mNameError\u001b[0m: name 'merge' is not defined"
     ]
    }
   ],
   "source": [
    "# merge"
   ]
  },
  {
   "cell_type": "code",
   "execution_count": null,
   "metadata": {
    "collapsed": true
   },
   "outputs": [],
   "source": []
  }
 ],
 "metadata": {
  "kernelspec": {
   "display_name": "Python 3",
   "language": "python",
   "name": "python3"
  },
  "language_info": {
   "codemirror_mode": {
    "name": "ipython",
    "version": 3
   },
   "file_extension": ".py",
   "mimetype": "text/x-python",
   "name": "python",
   "nbconvert_exporter": "python",
   "pygments_lexer": "ipython3",
   "version": "3.6.1"
  }
 },
 "nbformat": 4,
 "nbformat_minor": 2
}
