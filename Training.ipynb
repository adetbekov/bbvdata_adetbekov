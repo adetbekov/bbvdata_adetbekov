{
 "cells": [
  {
   "cell_type": "markdown",
   "metadata": {},
   "source": [
    "# BBVDATA Training"
   ]
  },
  {
   "cell_type": "markdown",
   "metadata": {},
   "source": [
    "### Импортирование инструментов и инициализация данных"
   ]
  },
  {
   "cell_type": "code",
   "execution_count": 4,
   "metadata": {},
   "outputs": [],
   "source": [
    "import math\n",
    "import numpy\n",
    "import pandas as pd \n",
    "import matplotlib.pyplot as plt\n",
    "\n",
    "from keras.layers import LSTM\n",
    "from keras.layers import Dense\n",
    "from keras.models import Sequential\n",
    "from keras.callbacks import ReduceLROnPlateau\n",
    "\n",
    "from sklearn.preprocessing import MinMaxScaler\n",
    "from sklearn.metrics import mean_squared_error"
   ]
  },
  {
   "cell_type": "code",
   "execution_count": 3,
   "metadata": {},
   "outputs": [],
   "source": [
    "numpy.random.seed(7)\n",
    "dataframe = pd.read_csv(\"preprocessed.csv\").drop(\"Unnamed: 0\", axis=1)"
   ]
  },
  {
   "cell_type": "code",
   "execution_count": 5,
   "metadata": {
    "collapsed": true
   },
   "outputs": [],
   "source": [
    "learning_rate_reduction = ReduceLROnPlateau(monitor='val_acc', patience=3, verbose=1, factor=0.5, min_lr=0.00001)"
   ]
  },
  {
   "cell_type": "code",
   "execution_count": 26,
   "metadata": {
    "collapsed": true
   },
   "outputs": [],
   "source": [
    "def create_dataset(d, look_back=1):\n",
    "    df = pd.DataFrame()\n",
    "    for i, col in enumerate(dataframe.columns):\n",
    "        df[col] = d.T[i]\n",
    "    d = df\n",
    "    # normalize the dataset\n",
    "    x_train, y_train = d.drop([\"load\", \"amount\"],axis=1).as_matrix(), d[[\"load\", \"amount\"]].as_matrix()\n",
    "    scaler_x = MinMaxScaler(feature_range=(0, 1)).fit(x_train)\n",
    "    scaler_y = MinMaxScaler(feature_range=(0, 1)).fit(y_train)\n",
    "    x_train = scaler_x.transform(x_train)\n",
    "    y_train = scaler_y.transform(y_train)\n",
    "    return numpy.array(x_train), numpy.array(y_train), scaler_x, scaler_y"
   ]
  },
  {
   "cell_type": "code",
   "execution_count": 27,
   "metadata": {},
   "outputs": [
    {
     "name": "stderr",
     "output_type": "stream",
     "text": [
      "/Users/dosya/Projects/lab_iis/jupyter/lib/python3.6/site-packages/ipykernel_launcher.py:3: FutureWarning: Method .as_matrix will be removed in a future version. Use .values instead.\n",
      "  This is separate from the ipykernel package so we can avoid doing imports until\n"
     ]
    }
   ],
   "source": [
    "feature_length = dataframe.shape[1]\n",
    "dataset = dataframe[:10000]\n",
    "dataset = dataset.astype('float32').as_matrix()"
   ]
  },
  {
   "cell_type": "code",
   "execution_count": 28,
   "metadata": {
    "collapsed": true
   },
   "outputs": [],
   "source": [
    "# split into train and test sets\n",
    "train_size = int(len(dataset) * 0.67)\n",
    "test_size = len(dataset) - train_size\n",
    "train, test = dataset[0:train_size,:], dataset[train_size:len(dataset),:]"
   ]
  },
  {
   "cell_type": "code",
   "execution_count": 60,
   "metadata": {},
   "outputs": [
    {
     "name": "stderr",
     "output_type": "stream",
     "text": [
      "/Users/dosya/Projects/lab_iis/jupyter/lib/python3.6/site-packages/ipykernel_launcher.py:7: FutureWarning: Method .as_matrix will be removed in a future version. Use .values instead.\n",
      "  import sys\n"
     ]
    },
    {
     "name": "stdout",
     "output_type": "stream",
     "text": [
      "Epoch 1/100\n",
      " - 3s - loss: 0.0427 - acc: 0.8445\n",
      "Epoch 2/100\n",
      " - 2s - loss: 0.0206 - acc: 0.9100\n",
      "Epoch 3/100\n",
      " - 2s - loss: 0.0190 - acc: 0.9094\n",
      "Epoch 4/100\n",
      " - 2s - loss: 0.0185 - acc: 0.9087\n",
      "Epoch 5/100\n",
      " - 2s - loss: 0.0181 - acc: 0.9115\n",
      "Epoch 6/100\n",
      " - 2s - loss: 0.0179 - acc: 0.9094\n",
      "Epoch 7/100\n",
      " - 2s - loss: 0.0176 - acc: 0.9103\n",
      "Epoch 8/100\n",
      " - 2s - loss: 0.0174 - acc: 0.9110\n",
      "Epoch 9/100\n",
      " - 2s - loss: 0.0173 - acc: 0.9100\n",
      "Epoch 10/100\n",
      " - 2s - loss: 0.0171 - acc: 0.9107\n",
      "Epoch 11/100\n",
      " - 2s - loss: 0.0169 - acc: 0.9125\n",
      "Epoch 12/100\n",
      " - 2s - loss: 0.0168 - acc: 0.9115\n",
      "Epoch 13/100\n",
      " - 2s - loss: 0.0167 - acc: 0.9125\n",
      "Epoch 14/100\n",
      " - 2s - loss: 0.0167 - acc: 0.9128\n",
      "Epoch 15/100\n",
      " - 2s - loss: 0.0166 - acc: 0.9119\n",
      "Epoch 16/100\n",
      " - 2s - loss: 0.0165 - acc: 0.9119\n",
      "Epoch 17/100\n",
      " - 2s - loss: 0.0165 - acc: 0.9119\n",
      "Epoch 18/100\n",
      " - 2s - loss: 0.0165 - acc: 0.9116\n",
      "Epoch 19/100\n",
      " - 2s - loss: 0.0164 - acc: 0.9116\n",
      "Epoch 20/100\n",
      " - 2s - loss: 0.0164 - acc: 0.9103\n",
      "Epoch 21/100\n",
      " - 2s - loss: 0.0163 - acc: 0.9106\n",
      "Epoch 22/100\n",
      " - 2s - loss: 0.0163 - acc: 0.9112\n",
      "Epoch 23/100\n",
      " - 2s - loss: 0.0163 - acc: 0.9109\n",
      "Epoch 24/100\n",
      " - 2s - loss: 0.0162 - acc: 0.9107\n",
      "Epoch 25/100\n",
      " - 2s - loss: 0.0162 - acc: 0.9079\n",
      "Epoch 26/100\n",
      " - 2s - loss: 0.0162 - acc: 0.9094\n",
      "Epoch 27/100\n",
      " - 2s - loss: 0.0161 - acc: 0.9081\n",
      "Epoch 28/100\n",
      " - 2s - loss: 0.0161 - acc: 0.9085\n",
      "Epoch 29/100\n",
      " - 2s - loss: 0.0160 - acc: 0.9103\n",
      "Epoch 30/100\n",
      " - 2s - loss: 0.0160 - acc: 0.9096\n",
      "Epoch 31/100\n",
      " - 2s - loss: 0.0159 - acc: 0.9072\n",
      "Epoch 32/100\n",
      " - 2s - loss: 0.0159 - acc: 0.9097\n",
      "Epoch 33/100\n",
      " - 2s - loss: 0.0158 - acc: 0.9081\n",
      "Epoch 34/100\n",
      " - 2s - loss: 0.0158 - acc: 0.9097\n",
      "Epoch 35/100\n",
      " - 2s - loss: 0.0157 - acc: 0.9107\n",
      "Epoch 36/100\n",
      " - 2s - loss: 0.0157 - acc: 0.9104\n",
      "Epoch 37/100\n",
      " - 2s - loss: 0.0157 - acc: 0.9110\n",
      "Epoch 38/100\n",
      " - 2s - loss: 0.0156 - acc: 0.9094\n",
      "Epoch 39/100\n",
      " - 2s - loss: 0.0155 - acc: 0.9076\n",
      "Epoch 40/100\n",
      " - 2s - loss: 0.0155 - acc: 0.9090\n",
      "Epoch 41/100\n",
      " - 2s - loss: 0.0154 - acc: 0.9073\n",
      "Epoch 42/100\n",
      " - 2s - loss: 0.0153 - acc: 0.9101\n",
      "Epoch 43/100\n",
      " - 2s - loss: 0.0152 - acc: 0.9072\n",
      "Epoch 44/100\n",
      " - 2s - loss: 0.0152 - acc: 0.9087\n",
      "Epoch 45/100\n",
      " - 2s - loss: 0.0151 - acc: 0.9093\n",
      "Epoch 46/100\n",
      " - 2s - loss: 0.0151 - acc: 0.9093\n",
      "Epoch 47/100\n",
      " - 2s - loss: 0.0150 - acc: 0.9088\n",
      "Epoch 48/100\n",
      " - 2s - loss: 0.0149 - acc: 0.9073\n",
      "Epoch 49/100\n",
      " - 2s - loss: 0.0149 - acc: 0.9106\n",
      "Epoch 50/100\n",
      " - 2s - loss: 0.0148 - acc: 0.9096\n",
      "Epoch 51/100\n",
      " - 2s - loss: 0.0147 - acc: 0.9109\n",
      "Epoch 52/100\n",
      " - 2s - loss: 0.0147 - acc: 0.9115\n",
      "Epoch 53/100\n",
      " - 2s - loss: 0.0146 - acc: 0.9088\n",
      "Epoch 54/100\n",
      " - 2s - loss: 0.0146 - acc: 0.9097\n",
      "Epoch 55/100\n",
      " - 2s - loss: 0.0145 - acc: 0.9097\n",
      "Epoch 56/100\n",
      " - 2s - loss: 0.0145 - acc: 0.9110\n",
      "Epoch 57/100\n",
      " - 2s - loss: 0.0144 - acc: 0.9110\n",
      "Epoch 58/100\n",
      " - 2s - loss: 0.0143 - acc: 0.9130\n",
      "Epoch 59/100\n",
      " - 2s - loss: 0.0143 - acc: 0.9139\n",
      "Epoch 60/100\n",
      " - 2s - loss: 0.0142 - acc: 0.9121\n",
      "Epoch 61/100\n",
      " - 2s - loss: 0.0142 - acc: 0.9142\n",
      "Epoch 62/100\n",
      " - 2s - loss: 0.0142 - acc: 0.9134\n",
      "Epoch 63/100\n",
      " - 2s - loss: 0.0141 - acc: 0.9122\n",
      "Epoch 64/100\n",
      " - 2s - loss: 0.0140 - acc: 0.9155\n",
      "Epoch 65/100\n",
      " - 2s - loss: 0.0140 - acc: 0.9139\n",
      "Epoch 66/100\n",
      " - 2s - loss: 0.0139 - acc: 0.9148\n",
      "Epoch 67/100\n",
      " - 2s - loss: 0.0139 - acc: 0.9142\n",
      "Epoch 68/100\n",
      " - 2s - loss: 0.0138 - acc: 0.9155\n",
      "Epoch 69/100\n",
      " - 2s - loss: 0.0138 - acc: 0.9149\n",
      "Epoch 70/100\n",
      " - 2s - loss: 0.0138 - acc: 0.9146\n",
      "Epoch 71/100\n",
      " - 2s - loss: 0.0137 - acc: 0.9155\n",
      "Epoch 72/100\n",
      " - 2s - loss: 0.0137 - acc: 0.9154\n",
      "Epoch 73/100\n",
      " - 2s - loss: 0.0136 - acc: 0.9146\n",
      "Epoch 74/100\n",
      " - 2s - loss: 0.0136 - acc: 0.9158\n",
      "Epoch 75/100\n",
      " - 2s - loss: 0.0136 - acc: 0.9170\n",
      "Epoch 76/100\n",
      " - 2s - loss: 0.0136 - acc: 0.9164\n",
      "Epoch 77/100\n",
      " - 2s - loss: 0.0135 - acc: 0.9163\n",
      "Epoch 78/100\n",
      " - 2s - loss: 0.0135 - acc: 0.9169\n",
      "Epoch 79/100\n",
      " - 2s - loss: 0.0135 - acc: 0.9167\n",
      "Epoch 80/100\n",
      " - 2s - loss: 0.0134 - acc: 0.9137\n",
      "Epoch 81/100\n",
      " - 2s - loss: 0.0134 - acc: 0.9158\n",
      "Epoch 82/100\n",
      " - 2s - loss: 0.0134 - acc: 0.9152\n",
      "Epoch 83/100\n",
      " - 2s - loss: 0.0134 - acc: 0.9161\n",
      "Epoch 84/100\n",
      " - 2s - loss: 0.0133 - acc: 0.9167\n",
      "Epoch 85/100\n",
      " - 2s - loss: 0.0133 - acc: 0.9173\n",
      "Epoch 86/100\n",
      " - 2s - loss: 0.0133 - acc: 0.9152\n",
      "Epoch 87/100\n",
      " - 2s - loss: 0.0133 - acc: 0.9164\n",
      "Epoch 88/100\n",
      " - 2s - loss: 0.0133 - acc: 0.9161\n",
      "Epoch 89/100\n",
      " - 2s - loss: 0.0132 - acc: 0.9167\n",
      "Epoch 90/100\n",
      " - 2s - loss: 0.0132 - acc: 0.9176\n",
      "Epoch 91/100\n",
      " - 2s - loss: 0.0132 - acc: 0.9160\n",
      "Epoch 92/100\n",
      " - 2s - loss: 0.0132 - acc: 0.9155\n",
      "Epoch 93/100\n",
      " - 2s - loss: 0.0132 - acc: 0.9173\n",
      "Epoch 94/100\n",
      " - 3s - loss: 0.0132 - acc: 0.9179\n",
      "Epoch 95/100\n",
      " - 3s - loss: 0.0131 - acc: 0.9169\n",
      "Epoch 96/100\n",
      " - 2s - loss: 0.0131 - acc: 0.9178\n",
      "Epoch 97/100\n",
      " - 2s - loss: 0.0131 - acc: 0.9184\n",
      "Epoch 98/100\n",
      " - 2s - loss: 0.0131 - acc: 0.9181\n",
      "Epoch 99/100\n",
      " - 2s - loss: 0.0131 - acc: 0.9178\n",
      "Epoch 100/100\n",
      " - 2s - loss: 0.0131 - acc: 0.9170\n"
     ]
    }
   ],
   "source": [
    "# reshape into X=t and Y=t+1\n",
    "look_back = 1\n",
    "trainX, trainY, scaler_trainX, scaler_trainY = create_dataset(train, look_back)\n",
    "testX, testY, scaler_testX, scaler_testY = create_dataset(test, look_back)\n",
    "# reshape input to be [samples, time steps, features]\n",
    "trainX = numpy.reshape(trainX, (trainX.shape[0], 1, trainX.shape[1]))\n",
    "testX = numpy.reshape(testX, (testX.shape[0], 1, testX.shape[1]))\n",
    "# create and fit the LSTM network\n",
    "model = Sequential()\n",
    "model.add(LSTM(4, input_shape=(look_back, feature_length-2)))\n",
    "model.add(Dense(2))\n",
    "model.compile(loss='mean_squared_error', optimizer='adam', metrics=['accuracy'])\n",
    "h = model.fit(trainX, trainY, epochs=100, batch_size=10, verbose=2)"
   ]
  },
  {
   "cell_type": "code",
   "execution_count": 66,
   "metadata": {},
   "outputs": [
    {
     "data": {
      "image/png": "[encoded data removed]",
      "text/plain": [
       "<matplotlib.figure.Figure at 0x128fb4390>"
      ]
     },
     "metadata": {},
     "output_type": "display_data"
    }
   ],
   "source": [
    "acc = h.history['acc']\n",
    "epochs = range(1, len(acc) + 1)\n",
    "plt.plot(epochs, acc, '-', label='Accuracy')\n",
    "plt.legend()\n",
    "plt.show()"
   ]
  },
  {
   "cell_type": "code",
   "execution_count": 67,
   "metadata": {
    "collapsed": true
   },
   "outputs": [],
   "source": [
    "# make predictions\n",
    "trainPredict = model.predict(trainX)\n",
    "testPredict = model.predict(testX)"
   ]
  },
  {
   "cell_type": "code",
   "execution_count": 77,
   "metadata": {},
   "outputs": [],
   "source": [
    "# invert predictions\n",
    "trainPredict = scaler_trainY.inverse_transform(trainPredict)\n",
    "trainY = scaler_trainY.inverse_transform(trainY)\n",
    "testPredict = scaler_testY.inverse_transform(testPredict)\n",
    "testY = scaler_testY.inverse_transform(testY)"
   ]
  },
  {
   "cell_type": "code",
   "execution_count": 78,
   "metadata": {},
   "outputs": [
    {
     "name": "stdout",
     "output_type": "stream",
     "text": [
      "Train Score: 1901.79 RMSE\n",
      "Test Score: 4192.84 RMSE\n"
     ]
    },
    {
     "data": {
      "image/png": "[encoded data removed]",
      "text/plain": [
       "<matplotlib.figure.Figure at 0x12a08d438>"
      ]
     },
     "metadata": {},
     "output_type": "display_data"
    }
   ],
   "source": [
    "# calculate root mean squared error\n",
    "trainScore = math.sqrt(mean_squared_error(trainY, trainPredict))\n",
    "print('Train Score: %.2f RMSE' % (trainScore))\n",
    "testScore = math.sqrt(mean_squared_error(testY, testPredict))\n",
    "print('Test Score: %.2f RMSE' % (testScore))\n",
    "# shift train predictions for plotting\n",
    "trainPredictPlot = numpy.empty_like(trainPredict)\n",
    "trainPredictPlot[:, :] = numpy.nan\n",
    "trainPredictPlot = trainPredict\n",
    "# shift test predictions for plotting\n",
    "testPredictPlot = numpy.empty_like(dataset)\n",
    "testPredictPlot[:, :] = numpy.nan\n",
    "testPredictPlot = testPredict\n",
    "# plot baseline and predictions\n",
    "plt.plot(scaler_trainY.inverse_transform(trainPredict))\n",
    "plt.plot(scaler_testY.inverse_transform(testPredict))\n",
    "plt.show()"
   ]
  },
  {
   "cell_type": "code",
   "execution_count": 79,
   "metadata": {},
   "outputs": [],
   "source": [
    "import tensorflow as tf"
   ]
  },
  {
   "cell_type": "code",
   "execution_count": 80,
   "metadata": {
    "collapsed": true
   },
   "outputs": [],
   "source": [
    "correct = tf.equal(tf.argmax(testPredict, 1), tf.argmax(testY, 1))"
   ]
  },
  {
   "cell_type": "code",
   "execution_count": 81,
   "metadata": {
    "collapsed": true
   },
   "outputs": [],
   "source": [
    "accuracy = tf.reduce_mean(tf.cast(correct, 'float'))"
   ]
  },
  {
   "cell_type": "code",
   "execution_count": 82,
   "metadata": {},
   "outputs": [
    {
     "data": {
      "text/plain": [
       "array([[ 710.    , 4918.    ],\n",
       "       [2309.9998, 8047.    ],\n",
       "       [2309.9998, 5514.    ],\n",
       "       [ 710.    , 5961.    ],\n",
       "       [ 710.    , 4918.    ]], dtype=float32)"
      ]
     },
     "execution_count": 82,
     "metadata": {},
     "output_type": "execute_result"
    }
   ],
   "source": [
    "testY[:5]"
   ]
  },
  {
   "cell_type": "code",
   "execution_count": 83,
   "metadata": {},
   "outputs": [
    {
     "data": {
      "text/plain": [
       "array([[1188.19  , 2120.8723],\n",
       "       [2488.658 , 4254.379 ],\n",
       "       [2939.6409, 3356.2048],\n",
       "       [1284.688 , 4295.696 ],\n",
       "       [1363.3309, 3491.6863]], dtype=float32)"
      ]
     },
     "execution_count": 83,
     "metadata": {},
     "output_type": "execute_result"
    }
   ],
   "source": [
    "testPredict[:5]"
   ]
  },
  {
   "cell_type": "code",
   "execution_count": 84,
   "metadata": {
    "collapsed": true
   },
   "outputs": [],
   "source": [
    "model.save(\"model.h5\")"
   ]
  },
  {
   "cell_type": "code",
   "execution_count": null,
   "metadata": {
    "collapsed": true
   },
   "outputs": [],
   "source": []
  },
  {
   "cell_type": "code",
   "execution_count": null,
   "metadata": {
    "collapsed": true
   },
   "outputs": [],
   "source": []
  },
  {
   "cell_type": "code",
   "execution_count": null,
   "metadata": {
    "collapsed": true
   },
   "outputs": [],
   "source": []
  },
  {
   "cell_type": "code",
   "execution_count": null,
   "metadata": {
    "collapsed": true
   },
   "outputs": [],
   "source": []
  }
 ],
 "metadata": {
  "kernelspec": {
   "display_name": "Python 3",
   "language": "python",
   "name": "python3"
  },
  "language_info": {
   "codemirror_mode": {
    "name": "ipython",
    "version": 3
   },
   "file_extension": ".py",
   "mimetype": "text/x-python",
   "name": "python",
   "nbconvert_exporter": "python",
   "pygments_lexer": "ipython3",
   "version": "3.6.1"
  }
 },
 "nbformat": 4,
 "nbformat_minor": 2
}
